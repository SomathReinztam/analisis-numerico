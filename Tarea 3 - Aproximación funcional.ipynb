{
 "cells": [
  {
   "cell_type": "markdown",
   "id": "a652b103",
   "metadata": {},
   "source": [
    "# Tarea 3 - Aproximación funcional\n",
    "\n",
    "##  Thomas Martínez Velásquez, Silvio Stiven Villegas Castro y Wilinton Erney Puetate Malte."
   ]
  },
  {
   "cell_type": "markdown",
   "id": "0d771689",
   "metadata": {},
   "source": [
    "**Problema 105** Cuando un fluido incompresible fluye de manera constante a través de una tubería redonda, la caída de presión \n",
    " $\\Delta P$ debida a la fricción está dada por:\n",
    " \n",
    " $$\n",
    " \\Delta P = -0.5 f \\rho V^2 (L/D)\n",
    " $$\n",
    " \n",
    "donde $\\rho$ es la densidad del fluido, $V$ es la velocidad, $L/D$ es la relación entre la longitud y el diámetro de la tubería y $f$ es el coeficiente de fricción de D'Arcy. Para un flujo laminar, el coeficiente de fricción $f$ se puede relacionar con el número de Reynolds, $Re$, mediante una relación de la forma:\n",
    "\n",
    "$$\n",
    "f = a(Re)^b \n",
    "$$\n",
    "\n",
    "Use los datos medidos en la Tabla 5 para determinar $a$ y $b$ mediante un ajuste de mínimos cuadrados."
   ]
  },
  {
   "cell_type": "markdown",
   "id": "4280b812",
   "metadata": {},
   "source": [
    "<img src=\"tabla.png\">"
   ]
  },
  {
   "cell_type": "markdown",
   "id": "39d3a5c7",
   "metadata": {},
   "source": [
    "Primero importemos las librerías necesarias"
   ]
  },
  {
   "cell_type": "code",
   "execution_count": 1,
   "id": "6462e443",
   "metadata": {},
   "outputs": [],
   "source": [
    "import numpy as np\n",
    "import matplotlib.pyplot as plt"
   ]
  },
  {
   "cell_type": "markdown",
   "id": "52b1845c",
   "metadata": {},
   "source": [
    "Sabemos que la relación entre $Re$ y $f$ es de la forma:\n",
    "\n",
    "$$\n",
    "f = a(Re)^b \n",
    "$$\n",
    "\n",
    "Por lo tanto podemos inferir que la mejor función que se ajusta a los datos de la **tabla 5** es de la forma:\n",
    "\n",
    "$$\n",
    "y(x) = ax^b  \\qquad (1)\n",
    "$$\n",
    "\n",
    "Donde $a$ y $b$ son las constantes que estamos buscando. De (1) aplicando logaritmo de base 10 a ambos lados obtenemos:\n",
    "\n",
    "$$\n",
    "log_{10}(y) = log_{10}(a) + b \\cdot log_{10}(x) \\qquad (2)\n",
    "$$\n",
    "\n",
    "Y así utilizando los datos de la **tabla 5**  en (2) obtenemos el siguiente sistema de ecuaciones:\n",
    "\n",
    "$$\n",
    "log_{10}(0.0320) = log_{10}(a) + b \\cdot log_{10}(500)\n",
    "\\\\\n",
    "log_{10}(0.0160) = log_{10}(a) + b \\cdot log_{10}(1000)\n",
    "\\\\\n",
    "log_{10}(0.0107) = log_{10}(a) + b \\cdot log_{10}(1500)\n",
    "\\\\\n",
    "log_{10}(0.0080) = log_{10}(a) + b \\cdot log_{10}(2000)\n",
    "$$\n",
    "\n",
    "Por lo tanto:\n",
    "\n",
    "$$\n",
    "\\begin{bmatrix}\n",
    "log_{10}(0.0320) \\\\\n",
    "log_{10}(0.0160) \\\\\n",
    "log_{10}(0.0107) \\\\\n",
    "log_{10}(0.0080)\n",
    "\\end{bmatrix}\n",
    "=\n",
    "\\begin{bmatrix}\n",
    "1 & log_{10}(500) \\\\\n",
    "1 & log_{10}(1000) \\\\\n",
    "1 & log_{10}(1500) \\\\\n",
    "1 & log_{10}(2000)\n",
    "\\end{bmatrix}\n",
    "\\cdot\n",
    "\\begin{bmatrix}\n",
    "log_{10}(a) \\\\\n",
    "b\n",
    "\\end{bmatrix}\n",
    "$$"
   ]
  },
  {
   "cell_type": "markdown",
   "id": "7e6d7583",
   "metadata": {},
   "source": [
    "Es decir el anterior sistema de ecuaciones es de la forma:\n",
    "\n",
    "$$\n",
    "\\textbf{b} = A \\textbf{x}\n",
    "$$  \n",
    "\n",
    "donde:\n",
    "\n",
    "$$\n",
    "\\textbf{x}\n",
    "=\n",
    "\\begin{bmatrix}\n",
    "log_{10}(a) \\\\\n",
    "b\n",
    "\\end{bmatrix}\n",
    "$$\n",
    "\n",
    "Es el vector de las constantes que queremos determinar mediante un ajuste de mínimos cuadrados. "
   ]
  },
  {
   "cell_type": "markdown",
   "id": "ede9947b",
   "metadata": {},
   "source": [
    "Por el teorema de mínimos cuadrados, si $\\textbf{x}$ es la solución en mínimos cuadrados de \n",
    "$A\\textbf{x} = \\textbf{b}$ entonces $\\textbf{x}$ es la solución de las ecuaciones normales:\n",
    "\n",
    "$$\n",
    "A^{T}A \\textbf{x} = A^{T} \\textbf{b}\n",
    "$$\n",
    "\n",
    "Y por lo tanto:\n",
    "\n",
    "$$\n",
    "\\textbf{x} = \\left( A^{T}A \\right)^{-1} A^{T} \\textbf{b}\n",
    "$$\n",
    "\n",
    "Y así:"
   ]
  },
  {
   "cell_type": "code",
   "execution_count": 2,
   "id": "4ed1b0a5",
   "metadata": {},
   "outputs": [
    {
     "name": "stdout",
     "output_type": "stream",
     "text": [
      "[ 1.20179482 -0.99912487]\n"
     ]
    }
   ],
   "source": [
    "b = np.array(\n",
    "    [\n",
    "        np.log10(0.0320),\n",
    "        np.log10(0.0160),\n",
    "        np.log10(0.0107),\n",
    "        np.log10(0.0080)\n",
    "\n",
    "    ]\n",
    ")\n",
    "\n",
    "\n",
    "\n",
    "A = np.array(\n",
    "    [\n",
    "        [1, np.log10(500)],\n",
    "        [1, np.log10(1000)],\n",
    "        [1, np.log10(1500)],\n",
    "        [1, np.log10(2000)]\n",
    "    ]\n",
    ")\n",
    "\n",
    "\n",
    "\n",
    "x = np.dot(\n",
    "    np.linalg.inv(\n",
    "        np.dot(np.transpose(A), A)\n",
    "    ),\n",
    "    np.dot(np.transpose(A), b)\n",
    ")\n",
    "\n",
    "print(x)"
   ]
  },
  {
   "cell_type": "markdown",
   "id": "b31fee49",
   "metadata": {},
   "source": [
    "Es decir, el vector que minimiza ${\\lVert b - Ax \\rVert} $ es\n",
    "\n",
    "$$\n",
    "\\textbf{x}\n",
    "=\n",
    "\\begin{bmatrix}\n",
    "log_{10}(a) \\\\\n",
    "b\n",
    "\\end{bmatrix}\n",
    "=\n",
    "\\begin{bmatrix}\n",
    "1.20179482 \\\\\n",
    "-0.99912487\n",
    "\\end{bmatrix}\n",
    "$$\n",
    "\n",
    "De donde obtenemos:\n",
    "\n",
    "$$\n",
    "a = 10^{1.20179482} \\approx 16 \\qquad b = -0.99912487 \\approx -1\n",
    "$$\n",
    "\n",
    "Gráfiquemos los puntos de la tabla 5 y a la función $y = ax^b$"
   ]
  },
  {
   "cell_type": "code",
   "execution_count": 9,
   "id": "476a773a",
   "metadata": {},
   "outputs": [
    {
     "data": {
      "text/plain": [
       "<matplotlib.legend.Legend at 0x21cefc944c0>"
      ]
     },
     "execution_count": 9,
     "metadata": {},
     "output_type": "execute_result"
    },
    {
     "data": {
      "image/png": "[encoded data removed]",
      "text/plain": [
       "<Figure size 640x480 with 1 Axes>"
      ]
     },
     "metadata": {},
     "output_type": "display_data"
    }
   ],
   "source": [
    "def y(x):\n",
    "    a = 10 ** (1.20179482)\n",
    "    b = -0.99912487\n",
    "    return a * (x ** b)\n",
    "\n",
    "Re = [500, 1000, 1500, 2000]\n",
    "f = [0.0320, 0.0160, 0.0107, 0.0080]\n",
    "\n",
    "x = np.linspace(400, 2100, 100)\n",
    "plt.plot(x, y(x), label='ajuste de la forma aRe^b')\n",
    "plt.plot(Re, f, 'go', label='datos experimentales')\n",
    "\n",
    "plt.xlabel('Re')\n",
    "plt.ylabel('coeficiente de fricción')\n",
    "plt.grid(True)\n",
    "plt.title(\"Ajuste de coeficiente de fricción por mínimos cuadrados\")\n",
    "plt.legend()\n"
   ]
  },
  {
   "cell_type": "code",
   "execution_count": null,
   "id": "9da15d59",
   "metadata": {},
   "outputs": [],
   "source": []
  }
 ],
 "metadata": {
  "kernelspec": {
   "display_name": "Python 3 (ipykernel)",
   "language": "python",
   "name": "python3"
  },
  "language_info": {
   "codemirror_mode": {
    "name": "ipython",
    "version": 3
   },
   "file_extension": ".py",
   "mimetype": "text/x-python",
   "name": "python",
   "nbconvert_exporter": "python",
   "pygments_lexer": "ipython3",
   "version": "3.9.7"
  }
 },
 "nbformat": 4,
 "nbformat_minor": 5
}
